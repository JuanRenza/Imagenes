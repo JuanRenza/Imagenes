{
  "nbformat": 4,
  "nbformat_minor": 0,
  "metadata": {
    "colab": {
      "name": "Untitled1.ipynb",
      "provenance": [],
      "authorship_tag": "ABX9TyPXeuG4EOqXcy8FvrhmlyzD",
      "include_colab_link": true
    },
    "kernelspec": {
      "name": "python3",
      "display_name": "Python 3"
    },
    "accelerator": "TPU"
  },
  "cells": [
    {
      "cell_type": "markdown",
      "metadata": {
        "id": "view-in-github",
        "colab_type": "text"
      },
      "source": [
        "<a href=\"https://colab.research.google.com/github/JuanRenza/Imagenes/blob/master/Clase2.ipynb\" target=\"_parent\"><img src=\"https://colab.research.google.com/assets/colab-badge.svg\" alt=\"Open In Colab\"/></a>"
      ]
    },
    {
      "cell_type": "markdown",
      "metadata": {
        "id": "Izr28RtF31TP",
        "colab_type": "text"
      },
      "source": [
        "**Definir e imprimir una variable**"
      ]
    },
    {
      "cell_type": "code",
      "metadata": {
        "id": "XiO6t9zwhZqD",
        "colab_type": "code",
        "colab": {
          "base_uri": "https://localhost:8080/",
          "height": 34
        },
        "outputId": "22add8f5-6f7a-4769-ca74-2e7d8e423359"
      },
      "source": [
        "x=0\n",
        "print(x)"
      ],
      "execution_count": 40,
      "outputs": [
        {
          "output_type": "stream",
          "text": [
            "0\n"
          ],
          "name": "stdout"
        }
      ]
    },
    {
      "cell_type": "markdown",
      "metadata": {
        "id": "N0IFYxXN3kLv",
        "colab_type": "text"
      },
      "source": [
        "**Declaración de Variables**"
      ]
    },
    {
      "cell_type": "code",
      "metadata": {
        "id": "vPpxzvAZlrRi",
        "colab_type": "code",
        "colab": {
          "base_uri": "https://localhost:8080/",
          "height": 34
        },
        "outputId": "6c81a332-541a-42e3-c9a1-1ae514d6b519"
      },
      "source": [
        "y=0.0\n",
        "z = True\n",
        "f=\"\"\n",
        "print(y)"
      ],
      "execution_count": 5,
      "outputs": [
        {
          "output_type": "stream",
          "text": [
            "0.0\n"
          ],
          "name": "stdout"
        }
      ]
    },
    {
      "cell_type": "markdown",
      "metadata": {
        "id": "UXZKOC5O3lnP",
        "colab_type": "text"
      },
      "source": [
        "**Importar librerias**"
      ]
    },
    {
      "cell_type": "code",
      "metadata": {
        "id": "lawVCGvhnAWP",
        "colab_type": "code",
        "colab": {}
      },
      "source": [
        "import cv2"
      ],
      "execution_count": 0,
      "outputs": []
    },
    {
      "cell_type": "markdown",
      "metadata": {
        "id": "2abHq29s3v5e",
        "colab_type": "text"
      },
      "source": [
        "**Crear y usar funciones**"
      ]
    },
    {
      "cell_type": "code",
      "metadata": {
        "id": "iKgptUYhnWlh",
        "colab_type": "code",
        "colab": {
          "base_uri": "https://localhost:8080/",
          "height": 34
        },
        "outputId": "d8ad0591-491d-4687-a01c-1a60ae519706"
      },
      "source": [
        "def perimetroRectangulo (a,b):\n",
        "  return (a*2)+(b*2)\n",
        "def areaRectangulo (a,b):\n",
        "  return a*b\n",
        "def Rectangulo (a,b):\n",
        "  return perimetroRectangulo(a,b) , areaRectangulo(a,b)\n",
        "\n",
        "Rectangulo(4,6)\n",
        "\n"
      ],
      "execution_count": 39,
      "outputs": [
        {
          "output_type": "execute_result",
          "data": {
            "text/plain": [
              "(20, 24)"
            ]
          },
          "metadata": {
            "tags": []
          },
          "execution_count": 39
        }
      ]
    },
    {
      "cell_type": "markdown",
      "metadata": {
        "id": "3T3nLfGu366o",
        "colab_type": "text"
      },
      "source": [
        "**Crear un arreglo**"
      ]
    },
    {
      "cell_type": "code",
      "metadata": {
        "id": "N7xoc2_u3jQS",
        "colab_type": "code",
        "colab": {
          "base_uri": "https://localhost:8080/",
          "height": 136
        },
        "outputId": "0e433ce3-e541-4a87-ce78-efd03cad7057"
      },
      "source": [
        "x=[]\n",
        "print(x)\n",
        "x=[1,2,3,4]\n",
        "print(x)\n",
        "x[0]=1.1\n",
        "print(x)\n",
        "\n",
        "#Introduzco un valor en la ultima posición\n",
        "x.append(5)\n",
        "print(x)\n",
        "#Introduzco un valor en una posición especifica \n",
        "y=0\n",
        "x.insert(y,8)\n",
        "print(x)\n",
        "del x[2]\n",
        "print(x)\n",
        "x.remove(4)\n",
        "print(x)\n"
      ],
      "execution_count": 64,
      "outputs": [
        {
          "output_type": "stream",
          "text": [
            "[]\n",
            "[1, 2, 3, 4]\n",
            "[1.1, 2, 3, 4]\n",
            "[1.1, 2, 3, 4, 5]\n",
            "[8, 1.1, 2, 3, 4, 5]\n",
            "[8, 1.1, 3, 4, 5]\n",
            "[8, 1.1, 3, 5]\n"
          ],
          "name": "stdout"
        }
      ]
    },
    {
      "cell_type": "markdown",
      "metadata": {
        "id": "9o2XfbXm67fs",
        "colab_type": "text"
      },
      "source": [
        "**Crear una Clase**"
      ]
    },
    {
      "cell_type": "code",
      "metadata": {
        "id": "AP0QKoYc67PF",
        "colab_type": "code",
        "colab": {}
      },
      "source": [
        "#Inicio de la clase en el primer nivel de indentación\n",
        "\n",
        "class ejemplo():\n",
        "\n",
        "#Metodo inicial (constructor) de la clase\n",
        "#Cada metodo debe tener al menos la variable self la cual va a inicializar todas las variables necesarias del metodo\n",
        "  def __init__(self):\n",
        "    self.numero = 0\n",
        "    self.arreglo = []\n"
      ],
      "execution_count": 0,
      "outputs": []
    }
  ]
}